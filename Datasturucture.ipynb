{
  "nbformat": 4,
  "nbformat_minor": 0,
  "metadata": {
    "colab": {
      "provenance": []
    },
    "kernelspec": {
      "name": "python3",
      "display_name": "Python 3"
    },
    "language_info": {
      "name": "python"
    }
  },
  "cells": [
    {
      "cell_type": "markdown",
      "source": [
        "# Data Types and Structures Questions\n",
        "\n",
        "**1.** What are data structures, and why are they important?\n",
        "**ans-** Data structures are specialized formats for organizing and storing data in a way that makes it easier to access, modify, and manage. Python provides both built-in and custom data structures, which are essential for solving various computational problems efficiently.\n",
        "\n",
        "Data structures are important because they enable efficient data storage, retrieval, and modification, optimizing both time and space. Choosing the right data structure improves algorithm performance, reducing computational overhead.\n",
        "\n",
        "**2.** Explain the difference between mutable and immutable data types with examples.\n",
        "ans- Mutable data types can be changed or modified after they are created.\n",
        "\n",
        "Immutable data types cannot be changed or modified after they are created.\n",
        "\n",
        "example-\n"
      ],
      "metadata": {
        "id": "YwpzTd1ISgg0"
      }
    },
    {
      "cell_type": "code",
      "source": [
        "# Mutable Example: List\n",
        "my_list = [1, 2, 3]\n",
        "my_list[0] = 10\n",
        "print(\"Modified list:\", my_list)\n",
        "\n",
        "# Immutable Example: Tuple\n",
        "my_tuple = (1, 2, 3)\n",
        "# my_tuple[0] = 10  # This would raise an error because tuples are immutable\n",
        "print(\"Tuple remains the same:\", my_tuple)\n"
      ],
      "metadata": {
        "id": "Ysc_ojZcq6tf"
      },
      "execution_count": null,
      "outputs": []
    },
    {
      "cell_type": "markdown",
      "source": [
        "3. What are the main differences between lists and tuples in Python.\n",
        "ans- List: Mutable (can be changed after creation). You can modify, add, or remove elements.\n",
        "\n",
        "Tuple: Immutable (cannot be changed after creation). Once a tuple is created, its elements cannot be altered.\n",
        "\n",
        "4. Describe how dictionaries store data.\n",
        "ans- Dictionaries store data by using a hash table to map keys to values. This structure allows for fast lookups, insertion, and deletion of key-value pairs, making dictionaries a powerful and efficient data structure in Python.\n",
        "\n",
        "5. Why might you use a set instead of a list in Python?\n",
        "ans- Use a set instead of a list when you need unique elements, as sets automatically eliminate duplicates. Sets also provide faster membership testing (O(1) vs O(n)) and efficient operations like union, intersection, and difference. Sets are ideal when you frequently add or remove elements, as these operations are generally faster. Lists, on the other hand, are useful when order and indexing are important.\n",
        "\n",
        "6. What is a string in Python, and how is it different from a list?\n",
        "ans- A string in Python is a sequence of characters enclosed in single, double, or triple quotes. It is an immutable data type, meaning that once a string is created, its content cannot be changed.\n",
        "\n",
        "A string is an immutable sequence of characters, meaning its contents cannot be changed after creation, while a list is mutable and can be modified by adding, removing, or changing elements. Strings can only store text, while lists can contain a mix of different data types.\n",
        "\n",
        "7. How do tuples ensure data integrity in Python?\n",
        "ans- Tuples ensure data integrity in Python by being immutable, meaning once a tuple is created, its elements cannot be modified, added, or removed. This immutability guarantees that the data remains constant throughout the program.\n",
        "\n",
        "8. What is a hash table, and how does it relate to dictionaries in Python.\n",
        "ans-A hash table is a data structure that stores key-value pairs and allows for efficient data retrieval using a hash function.\n",
        "\n",
        "In Python, dictionaries are implemented using hash tables. When you create a dictionary and add key-value pairs, Python applies a hash function to the key to determine where to store the value in memory.\n",
        "\n",
        "This provides fast access to values by key, as Python can directly compute the index where the value is located based on the key’s hash.\n",
        "\n",
        "9. Can lists contain different data types in Python.\n",
        "ans-Yes, lists in Python can contain different data types. A list in Python is heterogeneous, meaning it can hold elements of various types such as integers, strings, floats, booleans, and even other lists or objects.\n",
        "\n",
        "10. Explain why strings are immutable in Python?\n",
        "ans- strings are immutable in Python to ensure performance optimization, maintain data integrity, ensure consistency (especially with hashing), and align with functional programming principles.\n",
        "\n",
        "11.What advantages do dictionaries offer over lists for certain tasks?\n",
        "ans- Dictionaries are ideal when you need fast access by key, need to store key-value pairs, want to ensure unique keys, or need efficient insertions and deletions. In contrast, lists are more suited for maintaining ordered collections of elements, especially when you need to preserve order or access elements by position.\n",
        "\n",
        "12. Describe a scenario where using a tuple would be preferable over a list.\n",
        "ans- Imagine you're building an application that deals with geographical data, and you need to store the coordinates (latitude, longitude) of various places. Since the coordinates should not change once they are set (as changing coordinates would alter the location itself), a tuple is ideal here because it guarantees immutability, ensuring the integrity of the data.\n",
        "\n",
        "13.  How do sets handle duplicate values in Python?\n",
        "ans-In Python, sets automatically handle duplicate values by removing duplicates. A set is an unordered collection of unique elements, meaning that no two elements in a set can be the same. When you try to add a duplicate value to a set, Python will simply ignore it and ensure that only one instance of that value remains in the set.\n",
        "\n",
        "14. How does the “in” keyword work differently for lists and dictionaries?\n",
        "ans-Lists: The \"in\" keyword checks for the presence of a value in the list, performing a linear search.\n",
        "Dictionaries: The \"in\" keyword checks for the presence of a key in the dictionary, using a hash lookup for faster access.\n",
        "\n",
        "15.Can you modify the elements of a tuple? Explain why or why not?\n",
        "ans- No, you cannot modify the elements of a tuple in Python. This is because tuples are immutable data structures, meaning that once they are created, their elements cannot be changed, added, or removed.\n",
        "\n",
        "16. What is a nested dictionary, and give an example of its use case?\n",
        "ans- A nested dictionary in Python is a dictionary that contains other dictionaries as values. This allows you to create more complex, hierarchical data structures, where each key-value pair can be a dictionary itself.\n",
        "\n",
        "use case:\n",
        "A nested dictionary is often used to represent structured data where you need to store information at multiple levels, such as data related to a company, student records, or inventory systems.\n",
        "\n",
        "17. Describe the time complexity of accessing elements in a dictionary.\n",
        "ans- In Python, the time complexity of accessing elements in a dictionary is O(1) on average, meaning it takes constant time regardless of the size of the dictionary. This is because Python dictionaries are implemented using hash tables.\n",
        "\n",
        "18. In what situations are lists preferred over dictionaries?\n",
        "ans- Lists are preferred when you need ordered collections, want to store duplicates, need to access elements by index, or are dealing with homogeneous data.\n",
        "\n",
        "19. Why are dictionaries considered unordered, and how does that affect data retrieval?\n",
        "ans- In Python, dictionaries are considered unordered because the order of key-value pairs is not guaranteed to be preserved in the way it is with lists or tuples.\n",
        "In Python, the fact that dictionaries are unordered does not affect how data is retrieved. Data is accessed by key, and the retrieval process is efficient with an average time complexity of O(1) due to the underlying hash table structure.\n",
        "\n",
        "20. Explain the difference between a list and a dictionary in terms of data retrieval.\n",
        "ans- In a list, data is accessed by its index (position), and the order of elements matters for retrieval. In a dictionary, data is accessed using a key, and retrieval is independent of the insertion order. While both have O(1) time complexity for access, lists use position-based indexing, while dictionaries use key-based lookups.\n",
        "\n",
        "\n",
        "\n",
        "#    Practical Questions\n",
        "1. Write a code to create a string with your name and print it.\n",
        "\n",
        "\n",
        "\n",
        "\n",
        "\n",
        "\n",
        ""
      ],
      "metadata": {
        "id": "0ZniSzLdrkB-"
      }
    },
    {
      "cell_type": "code",
      "source": [
        "my_name = \"Vikash\"\n",
        "\n",
        "# Printing the string\n",
        "print(my_name)\n"
      ],
      "metadata": {
        "id": "POZYPhNpJZYg"
      },
      "execution_count": null,
      "outputs": []
    },
    {
      "cell_type": "markdown",
      "source": [
        "2. Write a code to find the length of the string \"Hello World\"."
      ],
      "metadata": {
        "id": "b1ZzE6QNJtw9"
      }
    },
    {
      "cell_type": "code",
      "execution_count": null,
      "metadata": {
        "id": "koRDspqfSASA"
      },
      "outputs": [],
      "source": [
        "my_string = \"Hello World\"\n",
        "\n",
        "length = len(my_string)\n",
        "\n",
        "# Printing the length\n",
        "print(length)\n"
      ]
    },
    {
      "cell_type": "markdown",
      "source": [
        "3. Write a code to slice the first 3 characters from the string \"Python Programming\"."
      ],
      "metadata": {
        "id": "opLRf---riD_"
      }
    },
    {
      "cell_type": "code",
      "source": [
        "my_string = \"Python Programming\"\n",
        "\n",
        "sliced_string = my_string[:3]\n",
        "\n",
        "# Printing the sliced string\n",
        "print(sliced_string)\n"
      ],
      "metadata": {
        "id": "GK6NWzQFKfUf"
      },
      "execution_count": null,
      "outputs": []
    },
    {
      "cell_type": "markdown",
      "source": [
        "4. Write a code to convert the string \"hello\" to uppercase."
      ],
      "metadata": {
        "id": "Liu7CwyhKpmp"
      }
    },
    {
      "cell_type": "code",
      "source": [
        "my_string = \"hello\"\n",
        "\n",
        "uppercase_string = my_string.upper()\n",
        "\n",
        "# Printing the uppercase string\n",
        "print(uppercase_string)\n"
      ],
      "metadata": {
        "id": "4va3ssvIK0Gc"
      },
      "execution_count": null,
      "outputs": []
    },
    {
      "cell_type": "markdown",
      "source": [
        "5.  Write a code to replace the word \"apple\" with \"orange\" in the string \"I like apple\".\n"
      ],
      "metadata": {
        "id": "bj6B0KYNLCl1"
      }
    },
    {
      "cell_type": "code",
      "source": [
        "my_string = \"I like apple\"\n",
        "\n",
        "new_string = my_string.replace(\"apple\", \"orange\")\n",
        "\n",
        "# Printing the modified string\n",
        "print(new_string)\n"
      ],
      "metadata": {
        "id": "Lj5TqHzlLRLy"
      },
      "execution_count": null,
      "outputs": []
    },
    {
      "cell_type": "markdown",
      "source": [
        "6.Write a code to create a list with numbers 1 to 5 and print it."
      ],
      "metadata": {
        "id": "s7UiNetXM2BY"
      }
    },
    {
      "cell_type": "code",
      "source": [
        "my_list = [1, 2, 3, 4, 5]\n",
        "\n",
        "# Printing the list\n",
        "print(my_list)\n"
      ],
      "metadata": {
        "id": "gMKOVbwSM5KE"
      },
      "execution_count": null,
      "outputs": []
    },
    {
      "cell_type": "markdown",
      "source": [
        "7.Write a code to append the number 10 to the list [1, 2, 3, 4].\n"
      ],
      "metadata": {
        "id": "o_c-RQhHM-7T"
      }
    },
    {
      "cell_type": "code",
      "source": [
        "my_list = [1, 2, 3, 4]\n",
        "\n",
        "my_list.append(10)\n",
        "\n",
        "print(my_list)\n"
      ],
      "metadata": {
        "id": "hPhbasZYNcgk"
      },
      "execution_count": null,
      "outputs": []
    },
    {
      "cell_type": "markdown",
      "source": [
        "8.Write a code to remove the number 3 from the list [1, 2, 3, 4, 5].\n"
      ],
      "metadata": {
        "id": "KrtTLqnqNeAF"
      }
    },
    {
      "cell_type": "code",
      "source": [
        "my_list = [1, 2, 3, 4, 5]\n",
        "\n",
        "my_list.remove(3)\n",
        "\n",
        "print(my_list)\n"
      ],
      "metadata": {
        "id": "cM9WXvFqNzbC"
      },
      "execution_count": null,
      "outputs": []
    },
    {
      "cell_type": "markdown",
      "source": [
        "9. Write a code to access the second element in the list ['a', 'b', 'c', 'd']."
      ],
      "metadata": {
        "id": "MAdGU34_N648"
      }
    },
    {
      "cell_type": "code",
      "source": [
        "my_list = ['a', 'b', 'c', 'd']\n",
        "\n",
        "second_element = my_list[1]\n",
        "\n",
        "print(second_element)\n"
      ],
      "metadata": {
        "id": "fL8iaYKLOIPd"
      },
      "execution_count": null,
      "outputs": []
    },
    {
      "cell_type": "markdown",
      "source": [
        "10. Write a code to reverse the list [10, 20, 30, 40, 50]."
      ],
      "metadata": {
        "id": "3BLcuiLiOR9r"
      }
    },
    {
      "cell_type": "code",
      "source": [
        "my_list = [10, 20, 30, 40, 50]\n",
        "\n",
        "my_list.reverse()\n",
        "\n",
        "print(my_list)\n"
      ],
      "metadata": {
        "id": "0XkgQWVoOavJ"
      },
      "execution_count": null,
      "outputs": []
    },
    {
      "cell_type": "markdown",
      "source": [
        "11.Write a code to create a tuple with the elements 10, 20, 30 and print it."
      ],
      "metadata": {
        "id": "oJDK-R9gOl8H"
      }
    },
    {
      "cell_type": "code",
      "source": [
        "my_tuple = (10, 20, 30)\n",
        "\n",
        "# Printing the tuple\n",
        "print(my_tuple)\n"
      ],
      "metadata": {
        "id": "aAYbUmbbOwmi"
      },
      "execution_count": null,
      "outputs": []
    },
    {
      "cell_type": "markdown",
      "source": [
        "12. Write a code to access the first element of the tuple ('apple', 'banana', 'cherry')."
      ],
      "metadata": {
        "id": "A_8s5CCAO2uf"
      }
    },
    {
      "cell_type": "code",
      "source": [
        "my_tuple = ('apple', 'banana', 'cherry')\n",
        "\n",
        "first_element = my_tuple[0]\n",
        "\n",
        "print(first_element)"
      ],
      "metadata": {
        "id": "BZto_oyEPp5X"
      },
      "execution_count": null,
      "outputs": []
    },
    {
      "cell_type": "markdown",
      "source": [
        "13. Write a code to count how many times the number 2 appears in the tuple (1, 2, 3, 2, 4, 2)."
      ],
      "metadata": {
        "id": "KJTx84GbPr21"
      }
    },
    {
      "cell_type": "code",
      "source": [
        "my_tuple = (1, 2, 3, 2, 4, 2)\n",
        "\n",
        "count_of_2 = my_tuple.count(2)\n",
        "\n",
        "# Printing the count\n",
        "print(count_of_2)\n"
      ],
      "metadata": {
        "id": "I9q9_-cjPwjI"
      },
      "execution_count": null,
      "outputs": []
    },
    {
      "cell_type": "markdown",
      "source": [
        "14. Write a code to find the index of the element \"cat\" in the tuple ('dog', 'cat', 'rabbit')."
      ],
      "metadata": {
        "id": "d2YN9fDPP_m9"
      }
    },
    {
      "cell_type": "code",
      "source": [
        "my_tuple = ('dog', 'cat', 'rabbit')\n",
        "\n",
        "index_of_cat = my_tuple.index('cat')\n",
        "\n",
        "# Printing the index\n",
        "print(index_of_cat)\n"
      ],
      "metadata": {
        "id": "9wbj8TtyQJ3h"
      },
      "execution_count": null,
      "outputs": []
    },
    {
      "cell_type": "markdown",
      "source": [
        "15.Write a code to check if the element \"banana\" is in the tuple ('apple', 'orange', 'banana')."
      ],
      "metadata": {
        "id": "E7Wzy68UQTBy"
      }
    },
    {
      "cell_type": "code",
      "source": [
        "my_tuple = ('apple', 'orange', 'banana')\n",
        "\n",
        "'banana' in my_tuple\n",
        "\n",
        "\n"
      ],
      "metadata": {
        "id": "vfzpZce5Qc6l"
      },
      "execution_count": null,
      "outputs": []
    },
    {
      "cell_type": "markdown",
      "source": [
        "16.Write a code to create a set with the elements 1, 2, 3, 4, 5 and print it."
      ],
      "metadata": {
        "id": "HV7qd-K2QyFp"
      }
    },
    {
      "cell_type": "code",
      "source": [
        "my_set = {1, 2, 3, 4, 5}\n",
        "\n",
        "print(my_set)\n"
      ],
      "metadata": {
        "id": "bfGCfrJRReKy"
      },
      "execution_count": null,
      "outputs": []
    },
    {
      "cell_type": "markdown",
      "source": [
        "17. Write a code to add the element 6 to the set {1, 2, 3, 4}."
      ],
      "metadata": {
        "id": "_uNeq2OjRmNk"
      }
    },
    {
      "cell_type": "code",
      "source": [
        "my_set = {1, 2, 3, 4}\n",
        "\n",
        "my_set.add(6)\n",
        "\n",
        "print(my_set)\n"
      ],
      "metadata": {
        "id": "20HuKa-xRsHL"
      },
      "execution_count": null,
      "outputs": []
    },
    {
      "cell_type": "markdown",
      "source": [
        "18. Write a code to create a tuple with the elements 10, 20, 30 and print it."
      ],
      "metadata": {
        "id": "fCLHrlWFSnAo"
      }
    },
    {
      "cell_type": "code",
      "source": [
        "my_tuple = (10, 20, 30)\n",
        "\n",
        "# Printing the tuple\n",
        "print(my_tuple)"
      ],
      "metadata": {
        "id": "IwGC75_ySpC9"
      },
      "execution_count": null,
      "outputs": []
    },
    {
      "cell_type": "markdown",
      "source": [
        "19. Write a code to access the first element of the tuple ('apple', 'banana', 'cherry')."
      ],
      "metadata": {
        "id": "l98Xz3SvSuyr"
      }
    },
    {
      "cell_type": "code",
      "source": [
        "my_tuple = ('apple', 'orange', 'banana')\n",
        "\n",
        "'banana' in my_tuple"
      ],
      "metadata": {
        "id": "PSoTyp6ESzGm"
      },
      "execution_count": null,
      "outputs": []
    },
    {
      "cell_type": "markdown",
      "source": [
        "20.Write a code to count how many times the number 2 appears in the tuple (1, 2, 3, 2, 4, 2)."
      ],
      "metadata": {
        "id": "mD2Dj13iS33E"
      }
    },
    {
      "cell_type": "code",
      "source": [
        "my_tuple = (1, 2, 3, 2, 4, 2)\n",
        "\n",
        "count_of_2 = my_tuple.count(2)\n",
        "\n",
        "# Printing the count\n",
        "print(count_of_2)\n"
      ],
      "metadata": {
        "id": "G_N3OknrS87n"
      },
      "execution_count": null,
      "outputs": []
    },
    {
      "cell_type": "markdown",
      "source": [
        "21.Write a code to find the index of the element \"cat\" in the tuple ('dog', 'cat', 'rabbit')."
      ],
      "metadata": {
        "id": "1RnKkZloTCYe"
      }
    },
    {
      "cell_type": "code",
      "source": [
        "my_tuple = ('dog', 'cat', 'rabbit')\n",
        "\n",
        "index_of_cat = my_tuple.index('cat')\n",
        "\n",
        "# Printing the index\n",
        "print(index_of_cat)"
      ],
      "metadata": {
        "id": "D9_Heu6cTHVX"
      },
      "execution_count": null,
      "outputs": []
    },
    {
      "cell_type": "markdown",
      "source": [
        "22.Write a code to check if the element \"banana\" is in the tuple ('apple', 'orange', 'banana')."
      ],
      "metadata": {
        "id": "ikJwVX3dTRAS"
      }
    },
    {
      "cell_type": "code",
      "source": [
        "my_tuple = ('apple', 'orange', 'banana')\n",
        "\n",
        "'banana' in my_tuple"
      ],
      "metadata": {
        "id": "TQBjfCrQTc4g"
      },
      "execution_count": null,
      "outputs": []
    },
    {
      "cell_type": "markdown",
      "source": [
        "23.Write a code to create a set with the elements 1, 2, 3, 4, 5 and print it."
      ],
      "metadata": {
        "id": "GQ_hQZFxTW9X"
      }
    },
    {
      "cell_type": "code",
      "source": [
        "my_set = {1, 2, 3, 4, 5}\n",
        "\n",
        "print(my_set)\n"
      ],
      "metadata": {
        "id": "FgTmcGC5Tkci"
      },
      "execution_count": null,
      "outputs": []
    },
    {
      "cell_type": "markdown",
      "source": [
        "24. Write a code to add the element 6 to the set {1, 2, 3, 4}."
      ],
      "metadata": {
        "id": "Ygd3XewnTr59"
      }
    },
    {
      "cell_type": "code",
      "source": [
        "my_set = {1, 2, 3, 4}\n",
        "\n",
        "my_set.add(6)\n",
        "\n",
        "print(my_set)\n"
      ],
      "metadata": {
        "id": "eaVYexWKTyrZ"
      },
      "execution_count": null,
      "outputs": []
    }
  ]
}